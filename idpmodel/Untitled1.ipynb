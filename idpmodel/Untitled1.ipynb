{
 "cells": [
  {
   "cell_type": "code",
   "execution_count": 32,
   "id": "188e20b5",
   "metadata": {},
   "outputs": [],
   "source": [
    "import matplotlib.pyplot as plt\n",
    "import matplotlib\n",
    "\n",
    "import numpy as np\n",
    "\n",
    "import metapredict as meta\n",
    "\n",
    "import pandas as pd\n",
    "\n",
    "import sqlalchemy\n",
    "from sqlalchemy import create_engine\n",
    "from sqlalchemy.orm import Session\n",
    "from models import Canon, Isoform"
   ]
  },
  {
   "cell_type": "code",
   "execution_count": 23,
   "id": "91230d9f",
   "metadata": {},
   "outputs": [],
   "source": [
    "engine = create_engine(\"sqlite:///C:\\\\Users\\\\ryanl\\\\OneDrive\\\\Repos\\\\predagg\\\\idpmodel\\\\finaldata\\\\test2.db\", echo=False)"
   ]
  },
  {
   "cell_type": "code",
   "execution_count": 24,
   "id": "a1e605a2",
   "metadata": {},
   "outputs": [],
   "source": [
    "df = pd.read_sql_query(\n",
    "    sql = sqlalchemy.select([Canon.id,\n",
    "                     Canon.family_member,\n",
    "                     Canon.precentdisordered]),\n",
    "    con = engine\n",
    ")\n"
   ]
  },
  {
   "cell_type": "code",
   "execution_count": 25,
   "id": "e61b49ee",
   "metadata": {
    "scrolled": true
   },
   "outputs": [
    {
     "data": {
      "text/html": [
       "<div>\n",
       "<style scoped>\n",
       "    .dataframe tbody tr th:only-of-type {\n",
       "        vertical-align: middle;\n",
       "    }\n",
       "\n",
       "    .dataframe tbody tr th {\n",
       "        vertical-align: top;\n",
       "    }\n",
       "\n",
       "    .dataframe thead th {\n",
       "        text-align: right;\n",
       "    }\n",
       "</style>\n",
       "<table border=\"1\" class=\"dataframe\">\n",
       "  <thead>\n",
       "    <tr style=\"text-align: right;\">\n",
       "      <th></th>\n",
       "      <th>id</th>\n",
       "      <th>family_member</th>\n",
       "      <th>precentdisordered</th>\n",
       "    </tr>\n",
       "  </thead>\n",
       "  <tbody>\n",
       "    <tr>\n",
       "      <th>0</th>\n",
       "      <td>A0A075B6G3</td>\n",
       "      <td>A0A075B6G3_HUMAN</td>\n",
       "      <td>11.370</td>\n",
       "    </tr>\n",
       "    <tr>\n",
       "      <th>1</th>\n",
       "      <td>A0A087WV00</td>\n",
       "      <td>A0A087WV00_HUMAN</td>\n",
       "      <td>21.570</td>\n",
       "    </tr>\n",
       "    <tr>\n",
       "      <th>2</th>\n",
       "      <td>A0A087WZT3</td>\n",
       "      <td>A0A087WZT3_HUMAN</td>\n",
       "      <td>56.818</td>\n",
       "    </tr>\n",
       "    <tr>\n",
       "      <th>3</th>\n",
       "      <td>A0A087X1C5</td>\n",
       "      <td>CP2D7_HUMAN</td>\n",
       "      <td>5.049</td>\n",
       "    </tr>\n",
       "    <tr>\n",
       "      <th>4</th>\n",
       "      <td>A0A087X296</td>\n",
       "      <td>A0A087X296_HUMAN</td>\n",
       "      <td>8.167</td>\n",
       "    </tr>\n",
       "    <tr>\n",
       "      <th>...</th>\n",
       "      <td>...</td>\n",
       "      <td>...</td>\n",
       "      <td>...</td>\n",
       "    </tr>\n",
       "    <tr>\n",
       "      <th>80576</th>\n",
       "      <td>X6RLV5</td>\n",
       "      <td>X6RLV5_HUMAN</td>\n",
       "      <td>40.625</td>\n",
       "    </tr>\n",
       "    <tr>\n",
       "      <th>80577</th>\n",
       "      <td>X6RLX0</td>\n",
       "      <td>X6RLX0_HUMAN</td>\n",
       "      <td>20.089</td>\n",
       "    </tr>\n",
       "    <tr>\n",
       "      <th>80578</th>\n",
       "      <td>X6RLY7</td>\n",
       "      <td>X6RLY7_HUMAN</td>\n",
       "      <td>45.390</td>\n",
       "    </tr>\n",
       "    <tr>\n",
       "      <th>80579</th>\n",
       "      <td>X6RM00</td>\n",
       "      <td>X6RM00_HUMAN</td>\n",
       "      <td>21.721</td>\n",
       "    </tr>\n",
       "    <tr>\n",
       "      <th>80580</th>\n",
       "      <td>X6RM24</td>\n",
       "      <td>X6RM24_HUMAN</td>\n",
       "      <td>NaN</td>\n",
       "    </tr>\n",
       "  </tbody>\n",
       "</table>\n",
       "<p>80581 rows × 3 columns</p>\n",
       "</div>"
      ],
      "text/plain": [
       "               id     family_member  precentdisordered\n",
       "0      A0A075B6G3  A0A075B6G3_HUMAN             11.370\n",
       "1      A0A087WV00  A0A087WV00_HUMAN             21.570\n",
       "2      A0A087WZT3  A0A087WZT3_HUMAN             56.818\n",
       "3      A0A087X1C5       CP2D7_HUMAN              5.049\n",
       "4      A0A087X296  A0A087X296_HUMAN              8.167\n",
       "...           ...               ...                ...\n",
       "80576      X6RLV5      X6RLV5_HUMAN             40.625\n",
       "80577      X6RLX0      X6RLX0_HUMAN             20.089\n",
       "80578      X6RLY7      X6RLY7_HUMAN             45.390\n",
       "80579      X6RM00      X6RM00_HUMAN             21.721\n",
       "80580      X6RM24      X6RM24_HUMAN                NaN\n",
       "\n",
       "[80581 rows x 3 columns]"
      ]
     },
     "execution_count": 25,
     "metadata": {},
     "output_type": "execute_result"
    }
   ],
   "source": [
    "df"
   ]
  },
  {
   "cell_type": "code",
   "execution_count": 26,
   "id": "720fb2ad",
   "metadata": {},
   "outputs": [],
   "source": [
    "id = []\n",
    "isolistdisordered = []\n",
    "with Session(engine) as session:\n",
    "    isoformlistquery = session.query(Isoform).all()\n",
    "    for isoform in isoformlistquery:\n",
    "        id.append(isoform.canon_id)\n",
    "        isolistdisordered.append(isoform.precentdisordered)\n",
    "    id.append('O60260')\n",
    "    isolistdisordered.append(79.69)\n",
    "    isodf = pd.DataFrame({'id': id, 'isolistdisordered': isolistdisordered})"
   ]
  },
  {
   "cell_type": "code",
   "execution_count": 27,
   "id": "ce843490",
   "metadata": {},
   "outputs": [],
   "source": [
    "newdf = pd.merge(df, isodf, on=\"id\")"
   ]
  },
  {
   "cell_type": "code",
   "execution_count": 28,
   "id": "408757a5",
   "metadata": {},
   "outputs": [],
   "source": [
    "newdf['difference'] = newdf['precentdisordered'] - newdf['isolistdisordered']"
   ]
  },
  {
   "cell_type": "code",
   "execution_count": 29,
   "id": "92ab4e18",
   "metadata": {},
   "outputs": [
    {
     "data": {
      "text/html": [
       "<div>\n",
       "<style scoped>\n",
       "    .dataframe tbody tr th:only-of-type {\n",
       "        vertical-align: middle;\n",
       "    }\n",
       "\n",
       "    .dataframe tbody tr th {\n",
       "        vertical-align: top;\n",
       "    }\n",
       "\n",
       "    .dataframe thead th {\n",
       "        text-align: right;\n",
       "    }\n",
       "</style>\n",
       "<table border=\"1\" class=\"dataframe\">\n",
       "  <thead>\n",
       "    <tr style=\"text-align: right;\">\n",
       "      <th></th>\n",
       "      <th>id</th>\n",
       "      <th>family_member</th>\n",
       "      <th>precentdisordered</th>\n",
       "      <th>isolistdisordered</th>\n",
       "      <th>difference</th>\n",
       "    </tr>\n",
       "  </thead>\n",
       "  <tbody>\n",
       "    <tr>\n",
       "      <th>0</th>\n",
       "      <td>A0A0K2S4Q6</td>\n",
       "      <td>CD3CH_HUMAN</td>\n",
       "      <td>31.343</td>\n",
       "      <td>19.608</td>\n",
       "      <td>11.735</td>\n",
       "    </tr>\n",
       "    <tr>\n",
       "      <th>1</th>\n",
       "      <td>A0A1B0GTW7</td>\n",
       "      <td>CIROP_HUMAN</td>\n",
       "      <td>15.482</td>\n",
       "      <td>16.438</td>\n",
       "      <td>-0.956</td>\n",
       "    </tr>\n",
       "    <tr>\n",
       "      <th>2</th>\n",
       "      <td>A0A1B0GTW7</td>\n",
       "      <td>CIROP_HUMAN</td>\n",
       "      <td>15.482</td>\n",
       "      <td>17.511</td>\n",
       "      <td>-2.029</td>\n",
       "    </tr>\n",
       "    <tr>\n",
       "      <th>3</th>\n",
       "      <td>A0AV02</td>\n",
       "      <td>S12A8_HUMAN</td>\n",
       "      <td>32.353</td>\n",
       "      <td>31.359</td>\n",
       "      <td>0.994</td>\n",
       "    </tr>\n",
       "    <tr>\n",
       "      <th>4</th>\n",
       "      <td>A0AV02</td>\n",
       "      <td>S12A8_HUMAN</td>\n",
       "      <td>32.353</td>\n",
       "      <td>51.845</td>\n",
       "      <td>-19.492</td>\n",
       "    </tr>\n",
       "    <tr>\n",
       "      <th>...</th>\n",
       "      <td>...</td>\n",
       "      <td>...</td>\n",
       "      <td>...</td>\n",
       "      <td>...</td>\n",
       "      <td>...</td>\n",
       "    </tr>\n",
       "    <tr>\n",
       "      <th>21987</th>\n",
       "      <td>Q9Y442</td>\n",
       "      <td>CV024_HUMAN</td>\n",
       "      <td>85.000</td>\n",
       "      <td>100.000</td>\n",
       "      <td>-15.000</td>\n",
       "    </tr>\n",
       "    <tr>\n",
       "      <th>21988</th>\n",
       "      <td>Q9Y6Z5</td>\n",
       "      <td>AFDDT_HUMAN</td>\n",
       "      <td>100.000</td>\n",
       "      <td>100.000</td>\n",
       "      <td>0.000</td>\n",
       "    </tr>\n",
       "    <tr>\n",
       "      <th>21989</th>\n",
       "      <td>Q5SVJ3</td>\n",
       "      <td>CA100_HUMAN</td>\n",
       "      <td>1.361</td>\n",
       "      <td>12.174</td>\n",
       "      <td>-10.813</td>\n",
       "    </tr>\n",
       "    <tr>\n",
       "      <th>21990</th>\n",
       "      <td>Q8N2B8</td>\n",
       "      <td>YB035_HUMAN</td>\n",
       "      <td>100.000</td>\n",
       "      <td>87.156</td>\n",
       "      <td>12.844</td>\n",
       "    </tr>\n",
       "    <tr>\n",
       "      <th>21991</th>\n",
       "      <td>Q8N5N4</td>\n",
       "      <td>CC022_HUMAN</td>\n",
       "      <td>100.000</td>\n",
       "      <td>80.392</td>\n",
       "      <td>19.608</td>\n",
       "    </tr>\n",
       "  </tbody>\n",
       "</table>\n",
       "<p>21992 rows × 5 columns</p>\n",
       "</div>"
      ],
      "text/plain": [
       "               id family_member  precentdisordered  isolistdisordered  \\\n",
       "0      A0A0K2S4Q6   CD3CH_HUMAN             31.343             19.608   \n",
       "1      A0A1B0GTW7   CIROP_HUMAN             15.482             16.438   \n",
       "2      A0A1B0GTW7   CIROP_HUMAN             15.482             17.511   \n",
       "3          A0AV02   S12A8_HUMAN             32.353             31.359   \n",
       "4          A0AV02   S12A8_HUMAN             32.353             51.845   \n",
       "...           ...           ...                ...                ...   \n",
       "21987      Q9Y442   CV024_HUMAN             85.000            100.000   \n",
       "21988      Q9Y6Z5   AFDDT_HUMAN            100.000            100.000   \n",
       "21989      Q5SVJ3   CA100_HUMAN              1.361             12.174   \n",
       "21990      Q8N2B8   YB035_HUMAN            100.000             87.156   \n",
       "21991      Q8N5N4   CC022_HUMAN            100.000             80.392   \n",
       "\n",
       "       difference  \n",
       "0          11.735  \n",
       "1          -0.956  \n",
       "2          -2.029  \n",
       "3           0.994  \n",
       "4         -19.492  \n",
       "...           ...  \n",
       "21987     -15.000  \n",
       "21988       0.000  \n",
       "21989     -10.813  \n",
       "21990      12.844  \n",
       "21991      19.608  \n",
       "\n",
       "[21992 rows x 5 columns]"
      ]
     },
     "execution_count": 29,
     "metadata": {},
     "output_type": "execute_result"
    }
   ],
   "source": [
    "newdf"
   ]
  },
  {
   "cell_type": "code",
   "execution_count": 46,
   "id": "6f248cfa",
   "metadata": {},
   "outputs": [
    {
     "data": {
      "image/png": "[encoded data removed]",
      "text/plain": [
       "<Figure size 432x288 with 1 Axes>"
      ]
     },
     "metadata": {
      "needs_background": "light"
     },
     "output_type": "display_data"
    }
   ],
   "source": [
    "#using matplotlib\n",
    "plt.xlabel('Percentage Differences in Disorderedness')\n",
    "plt.ylabel('# of Occurrences')\n",
    "plt.hist(newdf['difference'], color='orange', edgecolor='black', bins=int(100/2))\n",
    "plt.savefig('sampleplt.png')"
   ]
  },
  {
   "cell_type": "code",
   "execution_count": 30,
   "id": "7380bc5b",
   "metadata": {},
   "outputs": [
    {
     "data": {
      "text/plain": [
       "array([[<AxesSubplot: title={'center': 'difference'}>]], dtype=object)"
      ]
     },
     "execution_count": 30,
     "metadata": {},
     "output_type": "execute_result"
    },
    {
     "data": {
      "image/png": "[encoded data removed]",
      "text/plain": [
       "<Figure size 432x288 with 1 Axes>"
      ]
     },
     "metadata": {
      "needs_background": "light"
     },
     "output_type": "display_data"
    }
   ],
   "source": [
    "newdf.hist(column=\"difference\", edgecolor='black')"
   ]
  },
  {
   "cell_type": "code",
   "execution_count": 31,
   "id": "c64e60b4",
   "metadata": {},
   "outputs": [
    {
     "data": {
      "text/plain": [
       "count    21965.000000\n",
       "mean        -0.648392\n",
       "std         14.963262\n",
       "min        -98.901000\n",
       "25%         -3.702000\n",
       "50%         -0.038000\n",
       "75%          3.723000\n",
       "max         90.819000\n",
       "Name: difference, dtype: float64"
      ]
     },
     "execution_count": 31,
     "metadata": {},
     "output_type": "execute_result"
    }
   ],
   "source": [
    "newdf['difference'].describe()"
   ]
  },
  {
   "cell_type": "code",
   "execution_count": null,
   "id": "995c51b4",
   "metadata": {},
   "outputs": [],
   "source": []
  }
 ],
 "metadata": {
  "kernelspec": {
   "display_name": "predagg",
   "language": "python",
   "name": "predagg"
  },
  "language_info": {
   "codemirror_mode": {
    "name": "ipython",
    "version": 3
   },
   "file_extension": ".py",
   "mimetype": "text/x-python",
   "name": "python",
   "nbconvert_exporter": "python",
   "pygments_lexer": "ipython3",
   "version": "3.10.4"
  }
 },
 "nbformat": 4,
 "nbformat_minor": 5
}
